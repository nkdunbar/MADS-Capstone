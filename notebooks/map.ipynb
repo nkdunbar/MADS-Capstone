{
 "cells": [
  {
   "cell_type": "code",
   "execution_count": 1,
   "id": "extraordinary-commitment",
   "metadata": {},
   "outputs": [
    {
     "data": {
      "text/plain": [
       "datetime.datetime(2022, 4, 24, 9, 45, 34, 34844)"
      ]
     },
     "execution_count": 1,
     "metadata": {},
     "output_type": "execute_result"
    }
   ],
   "source": [
    "import datetime\n",
    "start_time = datetime.datetime.now()\n",
    "start_time"
   ]
  },
  {
   "cell_type": "code",
   "execution_count": 2,
   "id": "cf27e37a",
   "metadata": {},
   "outputs": [],
   "source": [
    "# Also runs installation of dependencies\n",
    "from lib.util import *\n",
    "\n",
    "from lib.feature_eng import *"
   ]
  },
  {
   "cell_type": "code",
   "execution_count": 3,
   "id": "lightweight-subject",
   "metadata": {},
   "outputs": [],
   "source": [
    "from ipywidgets import interact, widgets\n",
    "from IPython.display import display"
   ]
  },
  {
   "cell_type": "code",
   "execution_count": 4,
   "id": "worldwide-regulation",
   "metadata": {
    "scrolled": true
   },
   "outputs": [],
   "source": [
    "years = [2016, 2017, 2018, 2019]\n",
    "origin_df = []\n",
    "\n",
    "for year in years:\n",
    "    file_name = f'../dataset/TEDS-D-{year}-DS0001-bndl-data-tsv'\n",
    "    if year == 2019:\n",
    "        file_name += '_V1.zip'\n",
    "    else:\n",
    "        file_name += '.zip'\n",
    "    origin_df.append(read_csv(file_name))"
   ]
  },
  {
   "cell_type": "code",
   "execution_count": 5,
   "id": "matched-salad",
   "metadata": {},
   "outputs": [],
   "source": [
    "df = pd.concat(origin_df)"
   ]
  },
  {
   "cell_type": "code",
   "execution_count": 6,
   "id": "functioning-scenario",
   "metadata": {},
   "outputs": [
    {
     "data": {
      "text/html": [
       "<div>\n",
       "<style scoped>\n",
       "    .dataframe tbody tr th:only-of-type {\n",
       "        vertical-align: middle;\n",
       "    }\n",
       "\n",
       "    .dataframe tbody tr th {\n",
       "        vertical-align: top;\n",
       "    }\n",
       "\n",
       "    .dataframe thead th {\n",
       "        text-align: right;\n",
       "    }\n",
       "</style>\n",
       "<table border=\"1\" class=\"dataframe\">\n",
       "  <thead>\n",
       "    <tr style=\"text-align: right;\">\n",
       "      <th></th>\n",
       "      <th>DISYR</th>\n",
       "      <th>CASEID</th>\n",
       "      <th>STFIPS</th>\n",
       "      <th>AGE</th>\n",
       "      <th>SERVICES</th>\n",
       "      <th>SUB1</th>\n",
       "      <th>SUB2</th>\n",
       "      <th>SUB3</th>\n",
       "      <th>DETCRIM</th>\n",
       "      <th>NOPRIOR</th>\n",
       "      <th>...</th>\n",
       "      <th>OTHERFLG</th>\n",
       "      <th>NUMSUBS</th>\n",
       "      <th>IDU</th>\n",
       "      <th>DIVISION</th>\n",
       "      <th>REGION</th>\n",
       "      <th>ALCDRUG</th>\n",
       "      <th>YEAR</th>\n",
       "      <th>CBSA</th>\n",
       "      <th>GENDER</th>\n",
       "      <th>CBSA2010</th>\n",
       "    </tr>\n",
       "  </thead>\n",
       "  <tbody>\n",
       "    <tr>\n",
       "      <th>0</th>\n",
       "      <td>2016</td>\n",
       "      <td>20161314323</td>\n",
       "      <td>2</td>\n",
       "      <td>6</td>\n",
       "      <td>7</td>\n",
       "      <td>2</td>\n",
       "      <td>1</td>\n",
       "      <td>1</td>\n",
       "      <td>-9</td>\n",
       "      <td>1</td>\n",
       "      <td>...</td>\n",
       "      <td>0</td>\n",
       "      <td>1.0</td>\n",
       "      <td>0</td>\n",
       "      <td>9</td>\n",
       "      <td>4</td>\n",
       "      <td>1</td>\n",
       "      <td>2016.0</td>\n",
       "      <td>-9.0</td>\n",
       "      <td>2</td>\n",
       "      <td>NaN</td>\n",
       "    </tr>\n",
       "    <tr>\n",
       "      <th>1</th>\n",
       "      <td>2016</td>\n",
       "      <td>20161235303</td>\n",
       "      <td>2</td>\n",
       "      <td>5</td>\n",
       "      <td>7</td>\n",
       "      <td>2</td>\n",
       "      <td>1</td>\n",
       "      <td>1</td>\n",
       "      <td>-9</td>\n",
       "      <td>1</td>\n",
       "      <td>...</td>\n",
       "      <td>0</td>\n",
       "      <td>1.0</td>\n",
       "      <td>0</td>\n",
       "      <td>9</td>\n",
       "      <td>4</td>\n",
       "      <td>1</td>\n",
       "      <td>2016.0</td>\n",
       "      <td>-9.0</td>\n",
       "      <td>2</td>\n",
       "      <td>NaN</td>\n",
       "    </tr>\n",
       "    <tr>\n",
       "      <th>2</th>\n",
       "      <td>2016</td>\n",
       "      <td>20161216159</td>\n",
       "      <td>2</td>\n",
       "      <td>4</td>\n",
       "      <td>7</td>\n",
       "      <td>4</td>\n",
       "      <td>10</td>\n",
       "      <td>1</td>\n",
       "      <td>-9</td>\n",
       "      <td>0</td>\n",
       "      <td>...</td>\n",
       "      <td>0</td>\n",
       "      <td>2.0</td>\n",
       "      <td>1</td>\n",
       "      <td>9</td>\n",
       "      <td>4</td>\n",
       "      <td>2</td>\n",
       "      <td>2016.0</td>\n",
       "      <td>-9.0</td>\n",
       "      <td>2</td>\n",
       "      <td>NaN</td>\n",
       "    </tr>\n",
       "    <tr>\n",
       "      <th>3</th>\n",
       "      <td>2016</td>\n",
       "      <td>20161185262</td>\n",
       "      <td>2</td>\n",
       "      <td>4</td>\n",
       "      <td>7</td>\n",
       "      <td>10</td>\n",
       "      <td>4</td>\n",
       "      <td>2</td>\n",
       "      <td>-9</td>\n",
       "      <td>0</td>\n",
       "      <td>...</td>\n",
       "      <td>0</td>\n",
       "      <td>3.0</td>\n",
       "      <td>1</td>\n",
       "      <td>9</td>\n",
       "      <td>4</td>\n",
       "      <td>3</td>\n",
       "      <td>2016.0</td>\n",
       "      <td>-9.0</td>\n",
       "      <td>2</td>\n",
       "      <td>NaN</td>\n",
       "    </tr>\n",
       "    <tr>\n",
       "      <th>4</th>\n",
       "      <td>2016</td>\n",
       "      <td>20161248228</td>\n",
       "      <td>2</td>\n",
       "      <td>5</td>\n",
       "      <td>7</td>\n",
       "      <td>2</td>\n",
       "      <td>1</td>\n",
       "      <td>1</td>\n",
       "      <td>-9</td>\n",
       "      <td>1</td>\n",
       "      <td>...</td>\n",
       "      <td>0</td>\n",
       "      <td>1.0</td>\n",
       "      <td>0</td>\n",
       "      <td>9</td>\n",
       "      <td>4</td>\n",
       "      <td>1</td>\n",
       "      <td>2016.0</td>\n",
       "      <td>-9.0</td>\n",
       "      <td>1</td>\n",
       "      <td>NaN</td>\n",
       "    </tr>\n",
       "  </tbody>\n",
       "</table>\n",
       "<p>5 rows × 79 columns</p>\n",
       "</div>"
      ],
      "text/plain": [
       "   DISYR       CASEID  STFIPS  AGE  SERVICES  SUB1  SUB2  SUB3  DETCRIM  \\\n",
       "0   2016  20161314323       2    6         7     2     1     1       -9   \n",
       "1   2016  20161235303       2    5         7     2     1     1       -9   \n",
       "2   2016  20161216159       2    4         7     4    10     1       -9   \n",
       "3   2016  20161185262       2    4         7    10     4     2       -9   \n",
       "4   2016  20161248228       2    5         7     2     1     1       -9   \n",
       "\n",
       "   NOPRIOR  ...  OTHERFLG  NUMSUBS  IDU  DIVISION  REGION  ALCDRUG    YEAR  \\\n",
       "0        1  ...         0      1.0    0         9       4        1  2016.0   \n",
       "1        1  ...         0      1.0    0         9       4        1  2016.0   \n",
       "2        0  ...         0      2.0    1         9       4        2  2016.0   \n",
       "3        0  ...         0      3.0    1         9       4        3  2016.0   \n",
       "4        1  ...         0      1.0    0         9       4        1  2016.0   \n",
       "\n",
       "   CBSA  GENDER  CBSA2010  \n",
       "0  -9.0       2       NaN  \n",
       "1  -9.0       2       NaN  \n",
       "2  -9.0       2       NaN  \n",
       "3  -9.0       2       NaN  \n",
       "4  -9.0       1       NaN  \n",
       "\n",
       "[5 rows x 79 columns]"
      ]
     },
     "execution_count": 6,
     "metadata": {},
     "output_type": "execute_result"
    }
   ],
   "source": [
    "df.head()"
   ]
  },
  {
   "cell_type": "code",
   "execution_count": 7,
   "id": "relative-staff",
   "metadata": {},
   "outputs": [],
   "source": [
    "df['state'] = df['STFIPS'].apply(lambda x: US_STATE_TO_ABBREV[STATE_DICT[x]])\n",
    "df['REASON'] = df['REASON'].apply(lambda x: REASON_DICT[x])"
   ]
  },
  {
   "cell_type": "code",
   "execution_count": 8,
   "id": "resistant-crystal",
   "metadata": {
    "scrolled": false
   },
   "outputs": [
    {
     "data": {
      "application/vnd.jupyter.widget-view+json": {
       "model_id": "41928fea11b34859958d0e98647fa19b",
       "version_major": 2,
       "version_minor": 0
      },
      "text/plain": [
       "IntRangeSlider(value=(2016, 2019), continuous_update=False, description='Year:', max=2019, min=2016)"
      ]
     },
     "metadata": {},
     "output_type": "display_data"
    },
    {
     "data": {
      "application/vnd.jupyter.widget-view+json": {
       "model_id": "6af214243c8747079bbb0ac8e72c0331",
       "version_major": 2,
       "version_minor": 0
      },
      "text/plain": [
       "SelectMultiple(description='States:', index=(0, 1, 2, 3, 4, 5, 6, 7, 8, 9, 10, 11, 12, 13, 14, 15, 16, 17, 18,…"
      ]
     },
     "metadata": {},
     "output_type": "display_data"
    },
    {
     "data": {
      "application/vnd.jupyter.widget-view+json": {
       "model_id": "906c012910834a39a20962ccfaad70f6",
       "version_major": 2,
       "version_minor": 0
      },
      "text/plain": [
       "Dropdown(description='Column:', index=59, options=('AGE', 'ALCDRUG', 'ALCFLG', 'AMPHFLG', 'ARRESTS', 'ARRESTS_…"
      ]
     },
     "metadata": {},
     "output_type": "display_data"
    },
    {
     "data": {
      "application/vnd.jupyter.widget-view+json": {
       "model_id": "9af52dcc790243b5b8989b4a716d1e7b",
       "version_major": 2,
       "version_minor": 0
      },
      "text/plain": [
       "Dropdown(description='Classes:', options=('1 - Treatment Completed', '2 - Dropped out of treatment', '3 - Term…"
      ]
     },
     "metadata": {},
     "output_type": "display_data"
    },
    {
     "data": {
      "application/vnd.jupyter.widget-view+json": {
       "model_id": "d8d298665a8846e48dc1eaf0a2b029cb",
       "version_major": 2,
       "version_minor": 0
      },
      "text/plain": [
       "Button(description='Update Map!', style=ButtonStyle())"
      ]
     },
     "metadata": {},
     "output_type": "display_data"
    },
    {
     "data": {
      "application/vnd.jupyter.widget-view+json": {
       "model_id": "7e76e57e02ef4ab1a297305fa26134ea",
       "version_major": 2,
       "version_minor": 0
      },
      "text/plain": [
       "FigureWidget({\n",
       "    'data': [{'colorbar': {'title': {'text': 'title'}},\n",
       "              'colorscale': [[0.0, 'rgb…"
      ]
     },
     "metadata": {},
     "output_type": "display_data"
    }
   ],
   "source": [
    "years_widget = widgets.IntRangeSlider(\n",
    "    value=[min(years), max(years)],\n",
    "    min=min(years),\n",
    "    max=max(years),\n",
    "    step=1,\n",
    "    description='Year:',\n",
    "    disabled=False,\n",
    "    continuous_update=False,\n",
    "    orientation='horizontal',\n",
    "    readout=True,\n",
    "    readout_format='d',\n",
    ")\n",
    "\n",
    "state_list = sorted(list(df['state'].unique()))\n",
    "state = widgets.SelectMultiple(\n",
    "    options=state_list,\n",
    "    value=state_list,\n",
    "    description='States:',\n",
    ")\n",
    "\n",
    "df_columns = sorted(list(df.columns.unique()))\n",
    "df_columns.remove('state')\n",
    "df_columns.remove('DISYR')\n",
    "column = widgets.Dropdown(\n",
    "    options=df_columns,\n",
    "    value='REASON',\n",
    "    description='Column:',\n",
    ")\n",
    "\n",
    "reason_classes = sorted(list(df['REASON'].unique()))\n",
    "column_classes = widgets.Dropdown(\n",
    "    options=reason_classes,\n",
    "    value=reason_classes[0],\n",
    "    description='Classes:'\n",
    ")\n",
    "\n",
    "button = widgets.Button(description=\"Update Map!\")\n",
    "\n",
    "def view_map(button):\n",
    "    year_min, year_max = years_widget.value\n",
    "    if year_min == year_max:\n",
    "        tmp_df = df[df['DISYR'] == year_min]\n",
    "    else:\n",
    "        tmp_df = df[df['DISYR'].isin(list(range(year_min, year_max + 1)))]\n",
    "    if len(state.value) == len(tmp_df['state'].unique()):\n",
    "        tmp_df = df[df['state'].isin(state.value)]\n",
    "    else:\n",
    "        tmp_df = df\n",
    "    tmp_df = tmp_df[tmp_df[column.value] == column_classes.value]\n",
    "    tmp_df = tmp_df[['state', column.value]].value_counts().reset_index()\n",
    "    with g.batch_update():\n",
    "        g.data[0].locations = tmp_df['state']\n",
    "        g.data[0].z = tmp_df[0]\n",
    "        title = f\"Class `{column_classes.value}` count in column {column.value}\"\n",
    "        if len(state.value) == len(tmp_df['state'].unique()):\n",
    "            title += \" in all states\"\n",
    "        else:\n",
    "            title += \" in \" + \", \".join(x for x in state.value)\n",
    "        if year_min == 2016 and year_max == 2019:\n",
    "            title += \" in all years\"\n",
    "        elif year_min == year_max:\n",
    "            title += f\" in {year_min}\"\n",
    "        else:\n",
    "            title += f\" from {year_min} to {year_max}\"\n",
    "        g.layout.title = title\n",
    "        g.layout.xaxis.title = 'Delay in Minutes'\n",
    "\n",
    "# Define function to bind value of the input to the output variable \n",
    "def change_classes(change):\n",
    "    if change['type'] == 'change' and change['name'] == 'value':\n",
    "        col = change.new\n",
    "        column_classes.options = sorted(list(df[col].unique()))\n",
    "\n",
    "def change_state(change):\n",
    "    if change['type'] == 'change' and change['name'] == 'value':\n",
    "        year_range = list(range(change.new[0], change.new[1] + 1))\n",
    "        if year_range:\n",
    "            filtered_df = df[df['DISYR'].isin(year_range)]\n",
    "        else:\n",
    "            # min equals max\n",
    "            filtered_df = df[df['DISYR'] == change.new[0]]\n",
    "        new_state = sorted(list(filtered_df['state'].unique()))\n",
    "        state.options = new_state\n",
    "        state.value = new_state\n",
    "        \n",
    "column.observe(change_classes)\n",
    "years_widget.observe(change_state)\n",
    "\n",
    "button.on_click(view_map)\n",
    "\n",
    "\n",
    "display(years_widget, state, column, column_classes, button)\n",
    "empty_map = go.Choropleth(locationmode = 'USA-states',\n",
    "            colorscale = 'Blues',\n",
    "            colorbar_title = 'title')\n",
    "g = go.FigureWidget(data=[empty_map])\n",
    "g.update_layout(title_text = 'Default title', geo_scope='usa')"
   ]
  },
  {
   "cell_type": "code",
   "execution_count": 9,
   "id": "cdb4e6a2",
   "metadata": {},
   "outputs": [
    {
     "data": {
      "application/vnd.jupyter.widget-view+json": {
       "model_id": "67cbb7ab228e49baa0da5811740c8a68",
       "version_major": 2,
       "version_minor": 0
      },
      "text/plain": [
       "interactive(children=(IntRangeSlider(value=(2019, 2019), continuous_update=False, description='Year:', max=201…"
      ]
     },
     "metadata": {},
     "output_type": "display_data"
    }
   ],
   "source": [
    "years2 = widgets.IntRangeSlider(\n",
    "    value=[2019, 2019],\n",
    "    min=min(years),\n",
    "    max=max(years),\n",
    "    step=1,\n",
    "    description='Year:',\n",
    "    disabled=False,\n",
    "    continuous_update=False,\n",
    "    orientation='horizontal',\n",
    "    readout=True,\n",
    "    readout_format='d',\n",
    ")\n",
    "\n",
    "state_list = sorted(list(df['state'].unique()))\n",
    "state2 = widgets.SelectMultiple(\n",
    "    options=state_list,\n",
    "    value=state_list,\n",
    "    description='States:',\n",
    ")\n",
    "\n",
    "df_columns = sorted(list(df.columns.unique()))\n",
    "df_columns.remove('state')\n",
    "df_columns.remove('DISYR')\n",
    "column2 = widgets.Dropdown(\n",
    "    options=df_columns,\n",
    "    value='REASON',\n",
    "    description='Column:',\n",
    ")\n",
    "\n",
    "normalize = widgets.Checkbox(\n",
    "    value=True,\n",
    "    description='Normalized',\n",
    "    disabled=False,\n",
    "    indent=False\n",
    ")\n",
    "\n",
    "@interact\n",
    "def view_bar(years2=years2, state2=state2, column2=column2, normalize=normalize):\n",
    "    year_min, year_max = years2\n",
    "    tmp_df = df[df['state'].isin(state2)]\n",
    "    tmp_df = tmp_df[tmp_df['DISYR'].isin(list(range(year_min, year_max + 1)))]\n",
    "    count_df = pd.DataFrame(tmp_df.groupby(['state'])[column2].value_counts(normalize=normalize))\n",
    "    count_df.columns = ['count']\n",
    "    count_df = count_df.reset_index()\n",
    "    count_df[column2] = count_df[column2].astype(str)\n",
    "    color = sorted(list(count_df[column2].unique()))\n",
    "    fig = px.bar(count_df, x='state', y='count', color=column2, category_orders={column2: color})\n",
    "    fig.update_xaxes(type='category')\n",
    "    fig.show()\n"
   ]
  },
  {
   "cell_type": "code",
   "execution_count": 10,
   "id": "military-arkansas",
   "metadata": {},
   "outputs": [
    {
     "data": {
      "text/plain": [
       "datetime.datetime(2022, 4, 24, 9, 46, 10, 956017)"
      ]
     },
     "execution_count": 10,
     "metadata": {},
     "output_type": "execute_result"
    }
   ],
   "source": [
    "end_time = datetime.datetime.now()\n",
    "end_time"
   ]
  },
  {
   "cell_type": "code",
   "execution_count": 11,
   "id": "4cfe8315",
   "metadata": {},
   "outputs": [
    {
     "data": {
      "text/plain": [
       "datetime.timedelta(seconds=36, microseconds=921173)"
      ]
     },
     "execution_count": 11,
     "metadata": {},
     "output_type": "execute_result"
    }
   ],
   "source": [
    "# How long it took to run our entire notebook\n",
    "end_time - start_time"
   ]
  }
 ],
 "metadata": {
  "kernelspec": {
   "display_name": "Python 3",
   "language": "python",
   "name": "python3"
  },
  "language_info": {
   "codemirror_mode": {
    "name": "ipython",
    "version": 3
   },
   "file_extension": ".py",
   "mimetype": "text/x-python",
   "name": "python",
   "nbconvert_exporter": "python",
   "pygments_lexer": "ipython3",
   "version": "3.7.10"
  }
 },
 "nbformat": 4,
 "nbformat_minor": 5
}
